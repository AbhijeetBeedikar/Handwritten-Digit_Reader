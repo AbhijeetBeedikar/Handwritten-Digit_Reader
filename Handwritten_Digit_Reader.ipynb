{
  "nbformat": 4,
  "nbformat_minor": 0,
  "metadata": {
    "colab": {
      "provenance": [],
      "gpuType": "T4",
      "authorship_tag": "ABX9TyP0afJJL1l83OoT6RKcmnoy",
      "include_colab_link": true
    },
    "kernelspec": {
      "name": "python3",
      "display_name": "Python 3"
    },
    "language_info": {
      "name": "python"
    },
    "accelerator": "GPU"
  },
  "cells": [
    {
      "cell_type": "markdown",
      "metadata": {
        "id": "view-in-github",
        "colab_type": "text"
      },
      "source": [
        "<a href=\"https://colab.research.google.com/github/AbhijeetBeedikar/Handwritten-Digit_Reader/blob/main/Handwritten_Digit_Reader.ipynb\" target=\"_parent\"><img src=\"https://colab.research.google.com/assets/colab-badge.svg\" alt=\"Open In Colab\"/></a>"
      ]
    },
    {
      "cell_type": "code",
      "source": [
        "!pip install bigdl\n"
      ],
      "metadata": {
        "colab": {
          "base_uri": "https://localhost:8080/",
          "height": 1000
        },
        "id": "S8e6EiLlNzHd",
        "outputId": "386a0309-b7fe-4b58-84e9-ceaf66819a05"
      },
      "execution_count": null,
      "outputs": [
        {
          "output_type": "stream",
          "name": "stdout",
          "text": [
            "Requirement already satisfied: bigdl in /usr/local/lib/python3.10/dist-packages (2.4.0)\n",
            "Requirement already satisfied: bigdl-orca==2.4.0 in /usr/local/lib/python3.10/dist-packages (from bigdl) (2.4.0)\n",
            "Requirement already satisfied: bigdl-nano==2.4.0 in /usr/local/lib/python3.10/dist-packages (from bigdl) (2.4.0)\n",
            "Requirement already satisfied: bigdl-chronos==2.4.0 in /usr/local/lib/python3.10/dist-packages (from bigdl) (2.4.0)\n",
            "Requirement already satisfied: bigdl-friesian==2.4.0 in /usr/local/lib/python3.10/dist-packages (from bigdl) (2.4.0)\n",
            "Requirement already satisfied: bigdl-serving==2.4.0 in /usr/local/lib/python3.10/dist-packages (from bigdl) (2.4.0)\n",
            "Requirement already satisfied: pandas<=1.3.5,>=1.0.5 in /usr/local/lib/python3.10/dist-packages (from bigdl-chronos==2.4.0->bigdl) (1.3.5)\n",
            "Requirement already satisfied: scikit-learn<=1.0.2,>=0.22.0 in /usr/local/lib/python3.10/dist-packages (from bigdl-chronos==2.4.0->bigdl) (1.0.2)\n",
            "Requirement already satisfied: cloudpickle in /usr/local/lib/python3.10/dist-packages (from bigdl-nano==2.4.0->bigdl) (3.1.0)\n",
            "Collecting protobuf==3.19.5 (from bigdl-nano==2.4.0->bigdl)\n",
            "  Using cached protobuf-3.19.5-cp310-cp310-manylinux_2_17_x86_64.manylinux2014_x86_64.whl.metadata (787 bytes)\n",
            "Requirement already satisfied: py-cpuinfo in /usr/local/lib/python3.10/dist-packages (from bigdl-nano==2.4.0->bigdl) (9.0.0)\n",
            "Requirement already satisfied: pyyaml in /usr/local/lib/python3.10/dist-packages (from bigdl-nano==2.4.0->bigdl) (6.0.2)\n",
            "Requirement already satisfied: packaging in /usr/local/lib/python3.10/dist-packages (from bigdl-nano==2.4.0->bigdl) (24.2)\n",
            "Requirement already satisfied: sigfig in /usr/local/lib/python3.10/dist-packages (from bigdl-nano==2.4.0->bigdl) (1.3.18)\n",
            "Requirement already satisfied: setuptools<66 in /usr/local/lib/python3.10/dist-packages (from bigdl-nano==2.4.0->bigdl) (65.7.0)\n",
            "Requirement already satisfied: intel-openmp in /usr/local/lib/python3.10/dist-packages (from bigdl-nano==2.4.0->bigdl) (2025.0.4)\n",
            "Requirement already satisfied: filelock in /usr/local/lib/python3.10/dist-packages (from bigdl-orca==2.4.0->bigdl) (3.16.1)\n",
            "Requirement already satisfied: bigdl-tf==2.4.0.dev0 in /usr/local/lib/python3.10/dist-packages (from bigdl-orca==2.4.0->bigdl) (2.4.0.dev0)\n",
            "Requirement already satisfied: bigdl-math==2.4.0.dev0 in /usr/local/lib/python3.10/dist-packages (from bigdl-orca==2.4.0->bigdl) (2.4.0.dev0)\n",
            "Requirement already satisfied: bigdl-dllib==2.4.0 in /usr/local/lib/python3.10/dist-packages (from bigdl-orca==2.4.0->bigdl) (2.4.0)\n",
            "Requirement already satisfied: pyzmq in /usr/local/lib/python3.10/dist-packages (from bigdl-orca==2.4.0->bigdl) (24.0.1)\n",
            "Requirement already satisfied: redis in /usr/local/lib/python3.10/dist-packages (from bigdl-serving==2.4.0->bigdl) (5.2.1)\n",
            "Requirement already satisfied: httpx in /usr/local/lib/python3.10/dist-packages (from bigdl-serving==2.4.0->bigdl) (0.28.1)\n",
            "Requirement already satisfied: pyarrow in /usr/local/lib/python3.10/dist-packages (from bigdl-serving==2.4.0->bigdl) (17.0.0)\n",
            "Requirement already satisfied: opencv-python in /usr/local/lib/python3.10/dist-packages (from bigdl-serving==2.4.0->bigdl) (4.10.0.84)\n",
            "Requirement already satisfied: kafka-python in /usr/local/lib/python3.10/dist-packages (from bigdl-serving==2.4.0->bigdl) (2.0.2)\n",
            "Requirement already satisfied: numpy>=1.19.5 in /usr/local/lib/python3.10/dist-packages (from bigdl-dllib==2.4.0->bigdl-orca==2.4.0->bigdl) (1.26.4)\n",
            "Requirement already satisfied: pyspark==2.4.6 in /usr/local/lib/python3.10/dist-packages (from bigdl-dllib==2.4.0->bigdl-orca==2.4.0->bigdl) (2.4.6)\n",
            "Requirement already satisfied: conda-pack==0.3.1 in /usr/local/lib/python3.10/dist-packages (from bigdl-dllib==2.4.0->bigdl-orca==2.4.0->bigdl) (0.3.1)\n",
            "Requirement already satisfied: six>=1.10.0 in /usr/local/lib/python3.10/dist-packages (from bigdl-dllib==2.4.0->bigdl-orca==2.4.0->bigdl) (1.17.0)\n",
            "Requirement already satisfied: bigdl-core==2.4.0.dev0 in /usr/local/lib/python3.10/dist-packages (from bigdl-dllib==2.4.0->bigdl-orca==2.4.0->bigdl) (2.4.0.dev0)\n",
            "Requirement already satisfied: py4j==0.10.7 in /usr/local/lib/python3.10/dist-packages (from pyspark==2.4.6->bigdl-dllib==2.4.0->bigdl-orca==2.4.0->bigdl) (0.10.7)\n",
            "Requirement already satisfied: python-dateutil>=2.7.3 in /usr/local/lib/python3.10/dist-packages (from pandas<=1.3.5,>=1.0.5->bigdl-chronos==2.4.0->bigdl) (2.8.2)\n",
            "Requirement already satisfied: pytz>=2017.3 in /usr/local/lib/python3.10/dist-packages (from pandas<=1.3.5,>=1.0.5->bigdl-chronos==2.4.0->bigdl) (2024.2)\n",
            "Requirement already satisfied: scipy>=1.1.0 in /usr/local/lib/python3.10/dist-packages (from scikit-learn<=1.0.2,>=0.22.0->bigdl-chronos==2.4.0->bigdl) (1.13.1)\n",
            "Requirement already satisfied: joblib>=0.11 in /usr/local/lib/python3.10/dist-packages (from scikit-learn<=1.0.2,>=0.22.0->bigdl-chronos==2.4.0->bigdl) (1.4.2)\n",
            "Requirement already satisfied: threadpoolctl>=2.0.0 in /usr/local/lib/python3.10/dist-packages (from scikit-learn<=1.0.2,>=0.22.0->bigdl-chronos==2.4.0->bigdl) (3.5.0)\n",
            "Requirement already satisfied: anyio in /usr/local/lib/python3.10/dist-packages (from httpx->bigdl-serving==2.4.0->bigdl) (3.7.1)\n",
            "Requirement already satisfied: certifi in /usr/local/lib/python3.10/dist-packages (from httpx->bigdl-serving==2.4.0->bigdl) (2024.12.14)\n",
            "Requirement already satisfied: httpcore==1.* in /usr/local/lib/python3.10/dist-packages (from httpx->bigdl-serving==2.4.0->bigdl) (1.0.7)\n",
            "Requirement already satisfied: idna in /usr/local/lib/python3.10/dist-packages (from httpx->bigdl-serving==2.4.0->bigdl) (3.10)\n",
            "Requirement already satisfied: h11<0.15,>=0.13 in /usr/local/lib/python3.10/dist-packages (from httpcore==1.*->httpx->bigdl-serving==2.4.0->bigdl) (0.14.0)\n",
            "Requirement already satisfied: intel-cmplr-lib-ur==2025.0.4 in /usr/local/lib/python3.10/dist-packages (from intel-openmp->bigdl-nano==2.4.0->bigdl) (2025.0.4)\n",
            "Requirement already satisfied: umf==0.9.* in /usr/local/lib/python3.10/dist-packages (from intel-cmplr-lib-ur==2025.0.4->intel-openmp->bigdl-nano==2.4.0->bigdl) (0.9.1)\n",
            "Requirement already satisfied: tcmlib==1.2 in /usr/local/lib/python3.10/dist-packages (from umf==0.9.*->intel-cmplr-lib-ur==2025.0.4->intel-openmp->bigdl-nano==2.4.0->bigdl) (1.2.0)\n",
            "Requirement already satisfied: async-timeout>=4.0.3 in /usr/local/lib/python3.10/dist-packages (from redis->bigdl-serving==2.4.0->bigdl) (4.0.3)\n",
            "Requirement already satisfied: sortedcontainers<3.0.0,>=2.4.0 in /usr/local/lib/python3.10/dist-packages (from sigfig->bigdl-nano==2.4.0->bigdl) (2.4.0)\n",
            "Requirement already satisfied: sniffio>=1.1 in /usr/local/lib/python3.10/dist-packages (from anyio->httpx->bigdl-serving==2.4.0->bigdl) (1.3.1)\n",
            "Requirement already satisfied: exceptiongroup in /usr/local/lib/python3.10/dist-packages (from anyio->httpx->bigdl-serving==2.4.0->bigdl) (1.2.2)\n",
            "Using cached protobuf-3.19.5-cp310-cp310-manylinux_2_17_x86_64.manylinux2014_x86_64.whl (1.1 MB)\n",
            "Installing collected packages: protobuf\n",
            "  Attempting uninstall: protobuf\n",
            "    Found existing installation: protobuf 3.20.1\n",
            "    Uninstalling protobuf-3.20.1:\n",
            "      Successfully uninstalled protobuf-3.20.1\n",
            "\u001b[31mERROR: pip's dependency resolver does not currently take into account all the packages that are installed. This behaviour is the source of the following dependency conflicts.\n",
            "google-ai-generativelanguage 0.6.10 requires protobuf!=4.21.0,!=4.21.1,!=4.21.2,!=4.21.3,!=4.21.4,!=4.21.5,<6.0.0dev,>=3.20.2, but you have protobuf 3.19.5 which is incompatible.\n",
            "google-cloud-aiplatform 1.74.0 requires protobuf!=4.21.0,!=4.21.1,!=4.21.2,!=4.21.3,!=4.21.4,!=4.21.5,<6.0.0dev,>=3.20.2, but you have protobuf 3.19.5 which is incompatible.\n",
            "google-cloud-bigquery-connection 1.17.0 requires protobuf!=4.21.0,!=4.21.1,!=4.21.2,!=4.21.3,!=4.21.4,!=4.21.5,<6.0.0dev,>=3.20.2, but you have protobuf 3.19.5 which is incompatible.\n",
            "google-cloud-bigquery-storage 2.27.0 requires protobuf!=3.20.0,!=3.20.1,!=4.21.0,!=4.21.1,!=4.21.2,!=4.21.3,!=4.21.4,!=4.21.5,<6.0.0dev,>=3.20.2, but you have protobuf 3.19.5 which is incompatible.\n",
            "google-cloud-bigtable 2.27.0 requires protobuf!=4.21.0,!=4.21.1,!=4.21.2,!=4.21.3,!=4.21.4,!=4.21.5,<6.0.0dev,>=3.20.2, but you have protobuf 3.19.5 which is incompatible.\n",
            "google-cloud-datastore 2.20.2 requires protobuf!=3.20.0,!=3.20.1,!=4.21.0,!=4.21.1,!=4.21.2,!=4.21.3,!=4.21.4,!=4.21.5,<6.0.0dev,>=3.20.2, but you have protobuf 3.19.5 which is incompatible.\n",
            "google-cloud-firestore 2.19.0 requires protobuf!=3.20.0,!=3.20.1,!=4.21.0,!=4.21.1,!=4.21.2,!=4.21.3,!=4.21.4,!=4.21.5,<6.0.0dev,>=3.20.2, but you have protobuf 3.19.5 which is incompatible.\n",
            "google-cloud-functions 1.19.0 requires protobuf!=4.21.0,!=4.21.1,!=4.21.2,!=4.21.3,!=4.21.4,!=4.21.5,<6.0.0dev,>=3.20.2, but you have protobuf 3.19.5 which is incompatible.\n",
            "google-cloud-iam 2.17.0 requires protobuf!=4.21.0,!=4.21.1,!=4.21.2,!=4.21.3,!=4.21.4,!=4.21.5,<6.0.0dev,>=3.20.2, but you have protobuf 3.19.5 which is incompatible.\n",
            "google-cloud-language 2.16.0 requires protobuf!=4.21.0,!=4.21.1,!=4.21.2,!=4.21.3,!=4.21.4,!=4.21.5,<6.0.0dev,>=3.20.2, but you have protobuf 3.19.5 which is incompatible.\n",
            "google-cloud-pubsub 2.27.1 requires protobuf!=4.21.0,!=4.21.1,!=4.21.2,!=4.21.3,!=4.21.4,!=4.21.5,<6.0.0dev,>=3.20.2, but you have protobuf 3.19.5 which is incompatible.\n",
            "google-cloud-resource-manager 1.14.0 requires protobuf!=4.21.0,!=4.21.1,!=4.21.2,!=4.21.3,!=4.21.4,!=4.21.5,<6.0.0dev,>=3.20.2, but you have protobuf 3.19.5 which is incompatible.\n",
            "google-cloud-translate 3.19.0 requires protobuf!=4.21.0,!=4.21.1,!=4.21.2,!=4.21.3,!=4.21.4,!=4.21.5,<6.0.0dev,>=3.20.2, but you have protobuf 3.19.5 which is incompatible.\n",
            "googleapis-common-protos 1.66.0 requires protobuf!=3.20.0,!=3.20.1,!=4.21.1,!=4.21.2,!=4.21.3,!=4.21.4,!=4.21.5,<6.0.0.dev0,>=3.20.2, but you have protobuf 3.19.5 which is incompatible.\n",
            "grpc-google-iam-v1 0.13.1 requires protobuf!=4.21.1,!=4.21.2,!=4.21.3,!=4.21.4,!=4.21.5,<6.0.0dev,>=3.20.2, but you have protobuf 3.19.5 which is incompatible.\n",
            "grpcio-status 1.62.3 requires protobuf>=4.21.6, but you have protobuf 3.19.5 which is incompatible.\n",
            "tensorboard 2.17.1 requires protobuf!=4.24.0,>=3.19.6, but you have protobuf 3.19.5 which is incompatible.\n",
            "tensorflow 2.17.1 requires keras>=3.2.0, but you have keras 2.10.0 which is incompatible.\n",
            "tensorflow 2.17.1 requires protobuf!=4.21.0,!=4.21.1,!=4.21.2,!=4.21.3,!=4.21.4,!=4.21.5,<5.0.0dev,>=3.20.3, but you have protobuf 3.19.5 which is incompatible.\n",
            "tensorflow-datasets 4.9.7 requires protobuf>=3.20, but you have protobuf 3.19.5 which is incompatible.\n",
            "tensorflow-hub 0.16.1 requires protobuf>=3.19.6, but you have protobuf 3.19.5 which is incompatible.\n",
            "tensorflow-metadata 1.13.1 requires protobuf<5,>=3.20.3, but you have protobuf 3.19.5 which is incompatible.\u001b[0m\u001b[31m\n",
            "\u001b[0mSuccessfully installed protobuf-3.19.5\n"
          ]
        },
        {
          "output_type": "display_data",
          "data": {
            "application/vnd.colab-display-data+json": {
              "pip_warning": {
                "packages": [
                  "google"
                ]
              },
              "id": "57a8891604f04f5ba5433ef605cdc120"
            }
          },
          "metadata": {}
        }
      ]
    },
    {
      "cell_type": "code",
      "source": [
        "!pip install protobuf==3.20.1\n",
        "!pip install keras==2.10.0 # Force install a specific version of Keras that's compatible with bigdl.nano\n",
        "!pip install tensorflow==2.10.0"
      ],
      "metadata": {
        "colab": {
          "base_uri": "https://localhost:8080/",
          "height": 1000
        },
        "id": "EjdmSR0560jY",
        "outputId": "6278de8b-e5ba-4869-a772-a2120d38b64b"
      },
      "execution_count": null,
      "outputs": [
        {
          "output_type": "stream",
          "name": "stdout",
          "text": [
            "Collecting protobuf==3.20.1\n",
            "  Using cached protobuf-3.20.1-cp310-cp310-manylinux_2_12_x86_64.manylinux2010_x86_64.whl.metadata (698 bytes)\n",
            "Using cached protobuf-3.20.1-cp310-cp310-manylinux_2_12_x86_64.manylinux2010_x86_64.whl (1.1 MB)\n",
            "Installing collected packages: protobuf\n",
            "  Attempting uninstall: protobuf\n",
            "    Found existing installation: protobuf 3.19.6\n",
            "    Uninstalling protobuf-3.19.6:\n",
            "      Successfully uninstalled protobuf-3.19.6\n",
            "\u001b[31mERROR: pip's dependency resolver does not currently take into account all the packages that are installed. This behaviour is the source of the following dependency conflicts.\n",
            "bigdl-nano 2.4.0 requires protobuf==3.19.5, but you have protobuf 3.20.1 which is incompatible.\n",
            "google-ai-generativelanguage 0.6.10 requires protobuf!=4.21.0,!=4.21.1,!=4.21.2,!=4.21.3,!=4.21.4,!=4.21.5,<6.0.0dev,>=3.20.2, but you have protobuf 3.20.1 which is incompatible.\n",
            "google-api-core 2.19.2 requires protobuf!=3.20.0,!=3.20.1,!=4.21.0,!=4.21.1,!=4.21.2,!=4.21.3,!=4.21.4,!=4.21.5,<6.0.0.dev0,>=3.19.5, but you have protobuf 3.20.1 which is incompatible.\n",
            "google-cloud-aiplatform 1.74.0 requires protobuf!=4.21.0,!=4.21.1,!=4.21.2,!=4.21.3,!=4.21.4,!=4.21.5,<6.0.0dev,>=3.20.2, but you have protobuf 3.20.1 which is incompatible.\n",
            "google-cloud-bigquery-connection 1.17.0 requires protobuf!=4.21.0,!=4.21.1,!=4.21.2,!=4.21.3,!=4.21.4,!=4.21.5,<6.0.0dev,>=3.20.2, but you have protobuf 3.20.1 which is incompatible.\n",
            "google-cloud-bigquery-storage 2.27.0 requires protobuf!=3.20.0,!=3.20.1,!=4.21.0,!=4.21.1,!=4.21.2,!=4.21.3,!=4.21.4,!=4.21.5,<6.0.0dev,>=3.20.2, but you have protobuf 3.20.1 which is incompatible.\n",
            "google-cloud-bigtable 2.27.0 requires protobuf!=4.21.0,!=4.21.1,!=4.21.2,!=4.21.3,!=4.21.4,!=4.21.5,<6.0.0dev,>=3.20.2, but you have protobuf 3.20.1 which is incompatible.\n",
            "google-cloud-datastore 2.20.2 requires protobuf!=3.20.0,!=3.20.1,!=4.21.0,!=4.21.1,!=4.21.2,!=4.21.3,!=4.21.4,!=4.21.5,<6.0.0dev,>=3.20.2, but you have protobuf 3.20.1 which is incompatible.\n",
            "google-cloud-firestore 2.19.0 requires protobuf!=3.20.0,!=3.20.1,!=4.21.0,!=4.21.1,!=4.21.2,!=4.21.3,!=4.21.4,!=4.21.5,<6.0.0dev,>=3.20.2, but you have protobuf 3.20.1 which is incompatible.\n",
            "google-cloud-functions 1.19.0 requires protobuf!=4.21.0,!=4.21.1,!=4.21.2,!=4.21.3,!=4.21.4,!=4.21.5,<6.0.0dev,>=3.20.2, but you have protobuf 3.20.1 which is incompatible.\n",
            "google-cloud-iam 2.17.0 requires protobuf!=4.21.0,!=4.21.1,!=4.21.2,!=4.21.3,!=4.21.4,!=4.21.5,<6.0.0dev,>=3.20.2, but you have protobuf 3.20.1 which is incompatible.\n",
            "google-cloud-language 2.16.0 requires protobuf!=4.21.0,!=4.21.1,!=4.21.2,!=4.21.3,!=4.21.4,!=4.21.5,<6.0.0dev,>=3.20.2, but you have protobuf 3.20.1 which is incompatible.\n",
            "google-cloud-pubsub 2.27.1 requires protobuf!=4.21.0,!=4.21.1,!=4.21.2,!=4.21.3,!=4.21.4,!=4.21.5,<6.0.0dev,>=3.20.2, but you have protobuf 3.20.1 which is incompatible.\n",
            "google-cloud-resource-manager 1.14.0 requires protobuf!=4.21.0,!=4.21.1,!=4.21.2,!=4.21.3,!=4.21.4,!=4.21.5,<6.0.0dev,>=3.20.2, but you have protobuf 3.20.1 which is incompatible.\n",
            "google-cloud-translate 3.19.0 requires protobuf!=4.21.0,!=4.21.1,!=4.21.2,!=4.21.3,!=4.21.4,!=4.21.5,<6.0.0dev,>=3.20.2, but you have protobuf 3.20.1 which is incompatible.\n",
            "googleapis-common-protos 1.66.0 requires protobuf!=3.20.0,!=3.20.1,!=4.21.1,!=4.21.2,!=4.21.3,!=4.21.4,!=4.21.5,<6.0.0.dev0,>=3.20.2, but you have protobuf 3.20.1 which is incompatible.\n",
            "grpc-google-iam-v1 0.13.1 requires protobuf!=4.21.1,!=4.21.2,!=4.21.3,!=4.21.4,!=4.21.5,<6.0.0dev,>=3.20.2, but you have protobuf 3.20.1 which is incompatible.\n",
            "grpcio-status 1.62.3 requires protobuf>=4.21.6, but you have protobuf 3.20.1 which is incompatible.\n",
            "pandas-gbq 0.25.0 requires google-auth-oauthlib>=0.7.0, but you have google-auth-oauthlib 0.4.6 which is incompatible.\n",
            "tensorboard 2.10.1 requires protobuf<3.20,>=3.9.2, but you have protobuf 3.20.1 which is incompatible.\n",
            "tensorflow 2.10.0 requires protobuf<3.20,>=3.9.2, but you have protobuf 3.20.1 which is incompatible.\n",
            "tensorflow-metadata 1.13.1 requires protobuf<5,>=3.20.3, but you have protobuf 3.20.1 which is incompatible.\n",
            "tf-keras 2.17.0 requires tensorflow<2.18,>=2.17, but you have tensorflow 2.10.0 which is incompatible.\u001b[0m\u001b[31m\n",
            "\u001b[0mSuccessfully installed protobuf-3.20.1\n"
          ]
        },
        {
          "output_type": "display_data",
          "data": {
            "application/vnd.colab-display-data+json": {
              "pip_warning": {
                "packages": [
                  "google"
                ]
              },
              "id": "a22b490957de4213a1dc4fc955051e2f"
            }
          },
          "metadata": {}
        },
        {
          "output_type": "stream",
          "name": "stdout",
          "text": [
            "Requirement already satisfied: keras==2.10.0 in /usr/local/lib/python3.10/dist-packages (2.10.0)\n",
            "Requirement already satisfied: tensorflow==2.10.0 in /usr/local/lib/python3.10/dist-packages (2.10.0)\n",
            "Requirement already satisfied: absl-py>=1.0.0 in /usr/local/lib/python3.10/dist-packages (from tensorflow==2.10.0) (1.4.0)\n",
            "Requirement already satisfied: astunparse>=1.6.0 in /usr/local/lib/python3.10/dist-packages (from tensorflow==2.10.0) (1.6.3)\n",
            "Requirement already satisfied: flatbuffers>=2.0 in /usr/local/lib/python3.10/dist-packages (from tensorflow==2.10.0) (24.3.25)\n",
            "Requirement already satisfied: gast<=0.4.0,>=0.2.1 in /usr/local/lib/python3.10/dist-packages (from tensorflow==2.10.0) (0.4.0)\n",
            "Requirement already satisfied: google-pasta>=0.1.1 in /usr/local/lib/python3.10/dist-packages (from tensorflow==2.10.0) (0.2.0)\n",
            "Requirement already satisfied: grpcio<2.0,>=1.24.3 in /usr/local/lib/python3.10/dist-packages (from tensorflow==2.10.0) (1.68.1)\n",
            "Requirement already satisfied: h5py>=2.9.0 in /usr/local/lib/python3.10/dist-packages (from tensorflow==2.10.0) (3.12.1)\n",
            "Requirement already satisfied: keras<2.11,>=2.10.0 in /usr/local/lib/python3.10/dist-packages (from tensorflow==2.10.0) (2.10.0)\n",
            "Requirement already satisfied: keras-preprocessing>=1.1.1 in /usr/local/lib/python3.10/dist-packages (from tensorflow==2.10.0) (1.1.2)\n",
            "Requirement already satisfied: libclang>=13.0.0 in /usr/local/lib/python3.10/dist-packages (from tensorflow==2.10.0) (18.1.1)\n",
            "Requirement already satisfied: numpy>=1.20 in /usr/local/lib/python3.10/dist-packages (from tensorflow==2.10.0) (1.26.4)\n",
            "Requirement already satisfied: opt-einsum>=2.3.2 in /usr/local/lib/python3.10/dist-packages (from tensorflow==2.10.0) (3.4.0)\n",
            "Requirement already satisfied: packaging in /usr/local/lib/python3.10/dist-packages (from tensorflow==2.10.0) (24.2)\n",
            "Collecting protobuf<3.20,>=3.9.2 (from tensorflow==2.10.0)\n",
            "  Using cached protobuf-3.19.6-cp310-cp310-manylinux_2_17_x86_64.manylinux2014_x86_64.whl.metadata (787 bytes)\n",
            "Requirement already satisfied: setuptools in /usr/local/lib/python3.10/dist-packages (from tensorflow==2.10.0) (65.7.0)\n",
            "Requirement already satisfied: six>=1.12.0 in /usr/local/lib/python3.10/dist-packages (from tensorflow==2.10.0) (1.17.0)\n",
            "Requirement already satisfied: tensorboard<2.11,>=2.10 in /usr/local/lib/python3.10/dist-packages (from tensorflow==2.10.0) (2.10.1)\n",
            "Requirement already satisfied: tensorflow-io-gcs-filesystem>=0.23.1 in /usr/local/lib/python3.10/dist-packages (from tensorflow==2.10.0) (0.37.1)\n",
            "Requirement already satisfied: tensorflow-estimator<2.11,>=2.10.0 in /usr/local/lib/python3.10/dist-packages (from tensorflow==2.10.0) (2.10.0)\n",
            "Requirement already satisfied: termcolor>=1.1.0 in /usr/local/lib/python3.10/dist-packages (from tensorflow==2.10.0) (2.5.0)\n",
            "Requirement already satisfied: typing-extensions>=3.6.6 in /usr/local/lib/python3.10/dist-packages (from tensorflow==2.10.0) (4.12.2)\n",
            "Requirement already satisfied: wrapt>=1.11.0 in /usr/local/lib/python3.10/dist-packages (from tensorflow==2.10.0) (1.17.0)\n",
            "Requirement already satisfied: wheel<1.0,>=0.23.0 in /usr/local/lib/python3.10/dist-packages (from astunparse>=1.6.0->tensorflow==2.10.0) (0.45.1)\n",
            "Requirement already satisfied: google-auth<3,>=1.6.3 in /usr/local/lib/python3.10/dist-packages (from tensorboard<2.11,>=2.10->tensorflow==2.10.0) (2.27.0)\n",
            "Requirement already satisfied: google-auth-oauthlib<0.5,>=0.4.1 in /usr/local/lib/python3.10/dist-packages (from tensorboard<2.11,>=2.10->tensorflow==2.10.0) (0.4.6)\n",
            "Requirement already satisfied: markdown>=2.6.8 in /usr/local/lib/python3.10/dist-packages (from tensorboard<2.11,>=2.10->tensorflow==2.10.0) (3.7)\n",
            "Requirement already satisfied: requests<3,>=2.21.0 in /usr/local/lib/python3.10/dist-packages (from tensorboard<2.11,>=2.10->tensorflow==2.10.0) (2.32.3)\n",
            "Requirement already satisfied: tensorboard-data-server<0.7.0,>=0.6.0 in /usr/local/lib/python3.10/dist-packages (from tensorboard<2.11,>=2.10->tensorflow==2.10.0) (0.6.1)\n",
            "Requirement already satisfied: tensorboard-plugin-wit>=1.6.0 in /usr/local/lib/python3.10/dist-packages (from tensorboard<2.11,>=2.10->tensorflow==2.10.0) (1.8.1)\n",
            "Requirement already satisfied: werkzeug>=1.0.1 in /usr/local/lib/python3.10/dist-packages (from tensorboard<2.11,>=2.10->tensorflow==2.10.0) (3.1.3)\n",
            "Requirement already satisfied: cachetools<6.0,>=2.0.0 in /usr/local/lib/python3.10/dist-packages (from google-auth<3,>=1.6.3->tensorboard<2.11,>=2.10->tensorflow==2.10.0) (5.5.0)\n",
            "Requirement already satisfied: pyasn1-modules>=0.2.1 in /usr/local/lib/python3.10/dist-packages (from google-auth<3,>=1.6.3->tensorboard<2.11,>=2.10->tensorflow==2.10.0) (0.4.1)\n",
            "Requirement already satisfied: rsa<5,>=3.1.4 in /usr/local/lib/python3.10/dist-packages (from google-auth<3,>=1.6.3->tensorboard<2.11,>=2.10->tensorflow==2.10.0) (4.9)\n",
            "Requirement already satisfied: requests-oauthlib>=0.7.0 in /usr/local/lib/python3.10/dist-packages (from google-auth-oauthlib<0.5,>=0.4.1->tensorboard<2.11,>=2.10->tensorflow==2.10.0) (1.3.1)\n",
            "Requirement already satisfied: charset-normalizer<4,>=2 in /usr/local/lib/python3.10/dist-packages (from requests<3,>=2.21.0->tensorboard<2.11,>=2.10->tensorflow==2.10.0) (3.4.0)\n",
            "Requirement already satisfied: idna<4,>=2.5 in /usr/local/lib/python3.10/dist-packages (from requests<3,>=2.21.0->tensorboard<2.11,>=2.10->tensorflow==2.10.0) (3.10)\n",
            "Requirement already satisfied: urllib3<3,>=1.21.1 in /usr/local/lib/python3.10/dist-packages (from requests<3,>=2.21.0->tensorboard<2.11,>=2.10->tensorflow==2.10.0) (2.2.3)\n",
            "Requirement already satisfied: certifi>=2017.4.17 in /usr/local/lib/python3.10/dist-packages (from requests<3,>=2.21.0->tensorboard<2.11,>=2.10->tensorflow==2.10.0) (2024.12.14)\n",
            "Requirement already satisfied: MarkupSafe>=2.1.1 in /usr/local/lib/python3.10/dist-packages (from werkzeug>=1.0.1->tensorboard<2.11,>=2.10->tensorflow==2.10.0) (3.0.2)\n",
            "Requirement already satisfied: pyasn1<0.7.0,>=0.4.6 in /usr/local/lib/python3.10/dist-packages (from pyasn1-modules>=0.2.1->google-auth<3,>=1.6.3->tensorboard<2.11,>=2.10->tensorflow==2.10.0) (0.6.1)\n",
            "Requirement already satisfied: oauthlib>=3.0.0 in /usr/local/lib/python3.10/dist-packages (from requests-oauthlib>=0.7.0->google-auth-oauthlib<0.5,>=0.4.1->tensorboard<2.11,>=2.10->tensorflow==2.10.0) (3.2.2)\n",
            "Using cached protobuf-3.19.6-cp310-cp310-manylinux_2_17_x86_64.manylinux2014_x86_64.whl (1.1 MB)\n",
            "Installing collected packages: protobuf\n",
            "  Attempting uninstall: protobuf\n",
            "    Found existing installation: protobuf 3.20.1\n",
            "    Uninstalling protobuf-3.20.1:\n",
            "      Successfully uninstalled protobuf-3.20.1\n",
            "\u001b[31mERROR: pip's dependency resolver does not currently take into account all the packages that are installed. This behaviour is the source of the following dependency conflicts.\n",
            "bigdl-nano 2.4.0 requires protobuf==3.19.5, but you have protobuf 3.19.6 which is incompatible.\n",
            "google-ai-generativelanguage 0.6.10 requires protobuf!=4.21.0,!=4.21.1,!=4.21.2,!=4.21.3,!=4.21.4,!=4.21.5,<6.0.0dev,>=3.20.2, but you have protobuf 3.19.6 which is incompatible.\n",
            "google-cloud-aiplatform 1.74.0 requires protobuf!=4.21.0,!=4.21.1,!=4.21.2,!=4.21.3,!=4.21.4,!=4.21.5,<6.0.0dev,>=3.20.2, but you have protobuf 3.19.6 which is incompatible.\n",
            "google-cloud-bigquery-connection 1.17.0 requires protobuf!=4.21.0,!=4.21.1,!=4.21.2,!=4.21.3,!=4.21.4,!=4.21.5,<6.0.0dev,>=3.20.2, but you have protobuf 3.19.6 which is incompatible.\n",
            "google-cloud-bigquery-storage 2.27.0 requires protobuf!=3.20.0,!=3.20.1,!=4.21.0,!=4.21.1,!=4.21.2,!=4.21.3,!=4.21.4,!=4.21.5,<6.0.0dev,>=3.20.2, but you have protobuf 3.19.6 which is incompatible.\n",
            "google-cloud-bigtable 2.27.0 requires protobuf!=4.21.0,!=4.21.1,!=4.21.2,!=4.21.3,!=4.21.4,!=4.21.5,<6.0.0dev,>=3.20.2, but you have protobuf 3.19.6 which is incompatible.\n",
            "google-cloud-datastore 2.20.2 requires protobuf!=3.20.0,!=3.20.1,!=4.21.0,!=4.21.1,!=4.21.2,!=4.21.3,!=4.21.4,!=4.21.5,<6.0.0dev,>=3.20.2, but you have protobuf 3.19.6 which is incompatible.\n",
            "google-cloud-firestore 2.19.0 requires protobuf!=3.20.0,!=3.20.1,!=4.21.0,!=4.21.1,!=4.21.2,!=4.21.3,!=4.21.4,!=4.21.5,<6.0.0dev,>=3.20.2, but you have protobuf 3.19.6 which is incompatible.\n",
            "google-cloud-functions 1.19.0 requires protobuf!=4.21.0,!=4.21.1,!=4.21.2,!=4.21.3,!=4.21.4,!=4.21.5,<6.0.0dev,>=3.20.2, but you have protobuf 3.19.6 which is incompatible.\n",
            "google-cloud-iam 2.17.0 requires protobuf!=4.21.0,!=4.21.1,!=4.21.2,!=4.21.3,!=4.21.4,!=4.21.5,<6.0.0dev,>=3.20.2, but you have protobuf 3.19.6 which is incompatible.\n",
            "google-cloud-language 2.16.0 requires protobuf!=4.21.0,!=4.21.1,!=4.21.2,!=4.21.3,!=4.21.4,!=4.21.5,<6.0.0dev,>=3.20.2, but you have protobuf 3.19.6 which is incompatible.\n",
            "google-cloud-pubsub 2.27.1 requires protobuf!=4.21.0,!=4.21.1,!=4.21.2,!=4.21.3,!=4.21.4,!=4.21.5,<6.0.0dev,>=3.20.2, but you have protobuf 3.19.6 which is incompatible.\n",
            "google-cloud-resource-manager 1.14.0 requires protobuf!=4.21.0,!=4.21.1,!=4.21.2,!=4.21.3,!=4.21.4,!=4.21.5,<6.0.0dev,>=3.20.2, but you have protobuf 3.19.6 which is incompatible.\n",
            "google-cloud-translate 3.19.0 requires protobuf!=4.21.0,!=4.21.1,!=4.21.2,!=4.21.3,!=4.21.4,!=4.21.5,<6.0.0dev,>=3.20.2, but you have protobuf 3.19.6 which is incompatible.\n",
            "googleapis-common-protos 1.66.0 requires protobuf!=3.20.0,!=3.20.1,!=4.21.1,!=4.21.2,!=4.21.3,!=4.21.4,!=4.21.5,<6.0.0.dev0,>=3.20.2, but you have protobuf 3.19.6 which is incompatible.\n",
            "grpc-google-iam-v1 0.13.1 requires protobuf!=4.21.1,!=4.21.2,!=4.21.3,!=4.21.4,!=4.21.5,<6.0.0dev,>=3.20.2, but you have protobuf 3.19.6 which is incompatible.\n",
            "grpcio-status 1.62.3 requires protobuf>=4.21.6, but you have protobuf 3.19.6 which is incompatible.\n",
            "pandas-gbq 0.25.0 requires google-auth-oauthlib>=0.7.0, but you have google-auth-oauthlib 0.4.6 which is incompatible.\n",
            "tensorflow-datasets 4.9.7 requires protobuf>=3.20, but you have protobuf 3.19.6 which is incompatible.\n",
            "tensorflow-metadata 1.13.1 requires protobuf<5,>=3.20.3, but you have protobuf 3.19.6 which is incompatible.\n",
            "tf-keras 2.17.0 requires tensorflow<2.18,>=2.17, but you have tensorflow 2.10.0 which is incompatible.\u001b[0m\u001b[31m\n",
            "\u001b[0mSuccessfully installed protobuf-3.19.6\n"
          ]
        },
        {
          "output_type": "display_data",
          "data": {
            "application/vnd.colab-display-data+json": {
              "pip_warning": {
                "packages": [
                  "google"
                ]
              },
              "id": "3e644d2f37ba43359f50e104d4c4112f"
            }
          },
          "metadata": {}
        }
      ]
    },
    {
      "cell_type": "code",
      "source": [
        "from bigdl.nano.tf.keras import Sequential\n",
        "from tensorflow.keras.layers import Dense\n",
        "import matplotlib.pyplot as plt\n",
        "from sklearn.model_selection import train_test_split\n",
        "from tensorflow.keras.utils import to_categorical\n",
        "from sklearn.preprocessing import StandardScaler\n",
        "import pandas as pd\n",
        "import numpy as np\n",
        "\n",
        "standard = StandardScaler()\n",
        "#!pip install tensorflow\n",
        "from tensorflow.keras.datasets import mnist\n",
        "a = mnist.load_data(path=\"mnist.npz\")\n",
        "\n",
        "x_train,x_test,y_train,y_test = train_test_split(a[0][0],to_categorical(pd.Series(a[0][1])),test_size = 0.25, random_state=0)\n",
        "rand = []\n",
        "for i in range(len(x_train)):\n",
        "  rand.append(standard.fit_transform(x_train[i]))\n",
        "x_train = np.array(rand)\n",
        "x_train = x_train.reshape(-1, 784)\n",
        "rand = []\n",
        "for i in range(len(x_test)):\n",
        "  rand.append(standard.fit_transform(x_test[i]))\n",
        "x_test = np.array(rand)\n",
        "x_test = x_test.reshape(-1, 784)"
      ],
      "metadata": {
        "id": "P7PpV6Y8NE63"
      },
      "execution_count": 16,
      "outputs": []
    },
    {
      "cell_type": "code",
      "source": [
        "print(x_train[0])"
      ],
      "metadata": {
        "colab": {
          "base_uri": "https://localhost:8080/"
        },
        "id": "HeWy-oxLNv8x",
        "outputId": "f7b39f74-2172-4317-8894-1d1a713e92b0"
      },
      "execution_count": 17,
      "outputs": [
        {
          "output_type": "stream",
          "name": "stdout",
          "text": [
            "[ 0.          0.          0.          0.          0.         -0.38988724\n",
            " -0.38305146 -0.34728985 -0.39753564 -0.59744039 -0.63813202 -0.69903\n",
            " -0.68768994 -0.76461859 -0.81077526 -0.82797778 -0.98295804 -1.01774541\n",
            " -0.85887377 -0.53062051 -0.37964354  0.          0.          0.\n",
            "  0.          0.          0.          0.          0.          0.\n",
            "  0.          0.          0.         -0.38988724 -0.38305146 -0.34728985\n",
            " -0.39753564 -0.59744039 -0.63813202 -0.69903    -0.68768994 -0.76461859\n",
            " -0.81077526 -0.82797778 -0.98295804 -1.01774541 -0.85887377 -0.53062051\n",
            " -0.37964354  0.          0.          0.          0.          0.\n",
            "  0.          0.          0.          0.          0.          0.\n",
            "  0.         -0.38988724 -0.38305146 -0.34728985 -0.39753564 -0.59744039\n",
            " -0.63813202 -0.69903    -0.68768994 -0.76461859 -0.81077526 -0.82797778\n",
            " -0.98295804 -1.01774541 -0.85887377 -0.53062051 -0.37964354  0.\n",
            "  0.          0.          0.          0.          0.          0.\n",
            "  0.          0.          0.          0.          0.         -0.38988724\n",
            " -0.38305146 -0.34728985 -0.39753564 -0.59744039 -0.63813202 -0.69903\n",
            " -0.68768994 -0.76461859 -0.81077526 -0.82797778 -0.98295804 -1.01774541\n",
            " -0.85887377 -0.53062051 -0.37964354  0.          0.          0.\n",
            "  0.          0.          0.          0.          0.          0.\n",
            "  0.          0.          0.         -0.38988724 -0.38305146 -0.34728985\n",
            "  1.78941107  2.26769517  1.71947574  1.64712449  1.70158748  1.6641297\n",
            "  1.68219216  0.71695273  0.13767816 -0.61825656 -0.85887377 -0.53062051\n",
            " -0.37964354  0.          0.          0.          0.          0.\n",
            "  0.          0.          0.          0.          0.          0.\n",
            "  0.         -0.38988724 -0.38305146 -0.34728985 -0.3274412   1.1509691\n",
            "  1.71019382  1.63788766  1.69218087  1.6545677   1.67237733  1.55536014\n",
            "  1.28520963  1.2016371   1.11917712 -0.53062051 -0.37964354  0.\n",
            "  0.          0.          0.          0.          0.          0.\n",
            "  0.          0.          0.          0.          0.         -0.38988724\n",
            " -0.38305146 -0.34728985 -0.39753564 -0.55232014 -0.52674898 -0.58818806\n",
            " -0.25498616  0.8417976   0.88719074  0.69811211  1.28520963  1.22826969\n",
            "  1.26173935  0.03003512 -0.37964354  0.          0.          0.\n",
            "  0.          0.          0.          0.          0.          0.\n",
            "  0.          0.          0.         -0.38988724 -0.38305146 -0.34728985\n",
            " -0.39753564 -0.59744039 -0.63813202 -0.69903    -0.68768994 -0.71680859\n",
            " -0.75188626 -0.79029655  0.59489773  1.22826969  1.29737991  0.21285761\n",
            " -0.37964354  0.          0.          0.          0.          0.\n",
            "  0.          0.          0.          0.          0.          0.\n",
            "  0.         -0.38988724 -0.38305146 -0.34728985 -0.39753564 -0.59744039\n",
            " -0.63813202 -0.69903    -0.68768994 -0.76461859 -0.81077526 -0.43232485\n",
            "  1.21348891  1.22826969  0.70931072 -0.53062051 -0.37964354  0.\n",
            "  0.          0.          0.          0.          0.          0.\n",
            "  0.          0.          0.          0.          0.         -0.38988724\n",
            " -0.38305146 -0.34728985 -0.39753564 -0.59744039 -0.63813202 -0.69903\n",
            " -0.68768994 -0.76461859 -0.15318149  0.94304012  1.28520963  1.12173933\n",
            " -0.30644514 -0.53062051 -0.37964354  0.          0.          0.\n",
            "  0.          0.          0.          0.          0.          0.\n",
            "  0.          0.          0.         -0.38988724 -0.38305146 -0.34728985\n",
            " -0.39753564 -0.59744039 -0.63813202 -0.69903    -0.68768994 -0.57337857\n",
            "  1.21108021  1.55536014  1.28520963 -0.0412171  -0.85887377 -0.53062051\n",
            " -0.37964354  0.          0.          0.          0.          0.\n",
            "  0.          0.          0.          0.          0.          0.\n",
            "  0.         -0.38988724 -0.38305146 -0.34728985 -0.39753564 -0.59744039\n",
            " -0.63813202 -0.11710979  0.05543177  1.01391362  1.67237733  1.55536014\n",
            "  1.28520963  0.82878084 -0.5915696  -0.53062051 -0.37964354  0.\n",
            "  0.          0.          0.          0.          0.          0.\n",
            "  0.          0.          0.          0.          0.         -0.38988724\n",
            " -0.38305146 -0.34728985 -0.39753564 -0.31543885  1.02333172  1.54551937\n",
            "  1.69218087  1.6545677   1.16200604  1.34811336  1.28520963  1.22826969\n",
            "  0.99443518 -0.16497553 -0.37964354  0.          0.          0.\n",
            "  0.          0.          0.          0.          0.          0.\n",
            "  0.          0.          0.         -0.38988724 -0.38305146 -0.34728985\n",
            " -0.39753564  0.7448869   1.71019382  1.63788766  1.69218087  1.51113768\n",
            "  0.36700462 -0.44174516 -0.28368105  1.0240865   1.39539144  2.13858782\n",
            "  2.2857005   0.          0.          0.          0.          0.\n",
            "  0.          0.          0.          0.          0.          0.\n",
            "  0.         -0.38988724 -0.38305146 -0.34728985 -0.39753564  1.82777278\n",
            "  1.71019382  1.63788766  1.26888369  0.0290275  -0.81077526 -0.82797778\n",
            " -0.98295804 -0.43182843  1.39539144  2.55298546  3.06962521  0.\n",
            "  0.          0.          0.          0.          0.          0.\n",
            "  0.          0.          0.          0.          0.         -0.38988724\n",
            " -0.38305146 -0.34728985 -0.39753564  0.57568598  1.22753396  0.81580991\n",
            " -0.52777768 -0.76461859 -0.81077526 -0.82797778 -0.98295804 -0.48509361\n",
            "  1.39539144  2.55298546  3.06962521  0.          0.          0.\n",
            "  0.          0.          0.          0.          0.          0.\n",
            "  0.          0.          0.         -0.38988724 -0.38305146 -0.34728985\n",
            " -0.39753564 -0.59744039 -0.63813202 -0.69903    -0.68768994 -0.76461859\n",
            " -0.81077526 -0.82797778 -0.52573847  0.98857638  1.39539144  2.10202332\n",
            "  0.68649407  0.          0.          0.          0.          0.\n",
            "  0.          0.          0.          0.          0.          0.\n",
            "  0.         -0.38988724 -0.38305146 -0.34728985 -0.39753564 -0.59744039\n",
            " -0.63813202 -0.69903    -0.68768994 -0.76461859 -0.81077526 -0.75261532\n",
            "  0.64868827  1.22826969  1.39539144  0.73694874 -0.37964354  0.\n",
            "  0.          0.          0.          0.          0.          0.\n",
            "  0.          0.          0.          0.          0.         -0.38988724\n",
            " -0.38305146 -0.34728985 -0.39753564 -0.59744039 -0.63813202 -0.69903\n",
            " -0.68768994 -0.76461859 -0.74207143  0.48144503  1.28520963  1.22826969\n",
            "  1.09244671 -0.07965837 -0.37964354  0.          0.          0.\n",
            "  0.          0.          0.          0.          0.          0.\n",
            "  0.          0.          0.          2.05246949 -0.04320859 -0.34728985\n",
            " -0.39753564 -0.59744039 -0.63813202 -0.69903    -0.68768994 -0.76461859\n",
            " -0.16299632  1.55536014  1.28520963  0.92643367 -0.52919862 -0.53062051\n",
            " -0.37964354  0.          0.          0.          0.          0.\n",
            "  0.          0.          0.          0.          0.          0.\n",
            "  0.          3.56050183  2.48522233  0.0499371  -0.39753564 -0.59744039\n",
            " -0.63813202 -0.69903    -0.63125032  0.36369754  1.38774719  1.55536014\n",
            "  0.37973558 -0.6892768  -0.85887377 -0.53062051 -0.37964354  0.\n",
            "  0.          0.          0.          0.          0.          0.\n",
            "  0.          0.          0.          0.          0.          2.3475193\n",
            "  3.05615834  3.00530561  1.60716551  0.5418458  -0.50818514  0.39091579\n",
            "  0.93024595  1.6545677   1.64293283  1.21622905 -0.65124972 -1.01774541\n",
            " -0.85887377 -0.53062051 -0.37964354  0.          0.          0.\n",
            "  0.          0.          0.          0.          0.          0.\n",
            "  0.          0.          0.          1.39680325  3.00178349  3.67264689\n",
            "  3.14924331  2.2564151   1.71019382  1.63788766  1.69218087  1.6545677\n",
            "  1.13256155 -0.82797778 -0.98295804 -1.01774541 -0.85887377 -0.53062051\n",
            " -0.37964354  0.          0.          0.          0.          0.\n",
            "  0.          0.          0.          0.          0.          0.\n",
            "  0.         -0.38988724  0.31022799  1.60706675  2.92494109  2.2564151\n",
            "  1.71019382  1.63788766  1.69218087  0.71749159 -0.46725613 -0.82797778\n",
            " -0.98295804 -1.01774541 -0.85887377 -0.53062051 -0.37964354  0.\n",
            "  0.          0.          0.          0.          0.          0.\n",
            "  0.          0.          0.          0.          0.         -0.38988724\n",
            " -0.38305146 -0.34728985 -0.39753564 -0.59744039 -0.63813202 -0.69903\n",
            " -0.68768994 -0.76461859 -0.81077526 -0.82797778 -0.98295804 -1.01774541\n",
            " -0.85887377 -0.53062051 -0.37964354  0.          0.          0.\n",
            "  0.          0.          0.          0.          0.          0.\n",
            "  0.          0.          0.         -0.38988724 -0.38305146 -0.34728985\n",
            " -0.39753564 -0.59744039 -0.63813202 -0.69903    -0.68768994 -0.76461859\n",
            " -0.81077526 -0.82797778 -0.98295804 -1.01774541 -0.85887377 -0.53062051\n",
            " -0.37964354  0.          0.          0.          0.          0.\n",
            "  0.          0.          0.          0.          0.          0.\n",
            "  0.         -0.38988724 -0.38305146 -0.34728985 -0.39753564 -0.59744039\n",
            " -0.63813202 -0.69903    -0.68768994 -0.76461859 -0.81077526 -0.82797778\n",
            " -0.98295804 -1.01774541 -0.85887377 -0.53062051 -0.37964354  0.\n",
            "  0.          0.          0.          0.          0.          0.\n",
            "  0.          0.          0.          0.          0.         -0.38988724\n",
            " -0.38305146 -0.34728985 -0.39753564 -0.59744039 -0.63813202 -0.69903\n",
            " -0.68768994 -0.76461859 -0.81077526 -0.82797778 -0.98295804 -1.01774541\n",
            " -0.85887377 -0.53062051 -0.37964354  0.          0.          0.\n",
            "  0.          0.          0.          0.        ]\n"
          ]
        }
      ]
    },
    {
      "cell_type": "code",
      "source": [
        "print(to_categorical(pd.Series(a[0][1])))\n",
        "a[0][1]"
      ],
      "metadata": {
        "colab": {
          "base_uri": "https://localhost:8080/"
        },
        "id": "10msipksDWiM",
        "outputId": "bce1f5fd-e8c8-4a49-9658-57260d9c0d21"
      },
      "execution_count": null,
      "outputs": [
        {
          "output_type": "stream",
          "name": "stdout",
          "text": [
            "[[0. 0. 0. ... 0. 0. 0.]\n",
            " [1. 0. 0. ... 0. 0. 0.]\n",
            " [0. 0. 0. ... 0. 0. 0.]\n",
            " ...\n",
            " [0. 0. 0. ... 0. 0. 0.]\n",
            " [0. 0. 0. ... 0. 0. 0.]\n",
            " [0. 0. 0. ... 0. 1. 0.]]\n"
          ]
        },
        {
          "output_type": "execute_result",
          "data": {
            "text/plain": [
              "array([5, 0, 4, ..., 5, 6, 8], dtype=uint8)"
            ]
          },
          "metadata": {},
          "execution_count": 10
        }
      ]
    },
    {
      "cell_type": "code",
      "source": [
        "# Initialise the neural network as model\n",
        "model = Sequential()\n",
        "\n",
        "# Add the first hidden layer with 6 nodes. Input_dim refers to the number of columns/number of features in x_values or the input layer.\n",
        "# Activation refers to how the nodes/neurons are activated. We will use relu. Other common activations are 'sigmoid' and 'tanh'\n",
        "model.add(Dense(784,input_dim=784,activation='relu'))\n",
        "\n",
        "# Add the hidden layer with 6 nodes.\n",
        "model.add(Dense(16,activation='relu'))\n",
        "model.add(Dense(16,activation='relu'))\n",
        "\n",
        "# Add the output layer with 3 nodes. The activation used has to be 'softmax'. Softmax is used when you are dealing with categorical outputs or targets.\n",
        "model.add(Dense(10,activation='sigmoid'))\n",
        "\n",
        "# Compile the model together. The optimizer refers to the method to make the adjustment within the model. Loss refers to how the difference between the predicted out\n",
        "model.compile(optimizer='adam',loss='categorical_crossentropy',metrics=['accuracy'])\n",
        "model.summary()"
      ],
      "metadata": {
        "colab": {
          "base_uri": "https://localhost:8080/"
        },
        "id": "VNs6AUv8OFxM",
        "outputId": "659e1a56-7a0a-4fe1-de4a-a8d02d3b3bd2"
      },
      "execution_count": 18,
      "outputs": [
        {
          "output_type": "stream",
          "name": "stdout",
          "text": [
            "Model: \"sequential_3\"\n",
            "_________________________________________________________________\n",
            " Layer (type)                Output Shape              Param #   \n",
            "=================================================================\n",
            " dense_9 (Dense)             (None, 784)               615440    \n",
            "                                                                 \n",
            " dense_10 (Dense)            (None, 16)                12560     \n",
            "                                                                 \n",
            " dense_11 (Dense)            (None, 16)                272       \n",
            "                                                                 \n",
            " dense_12 (Dense)            (None, 10)                170       \n",
            "                                                                 \n",
            "=================================================================\n",
            "Total params: 628,442\n",
            "Trainable params: 628,442\n",
            "Non-trainable params: 0\n",
            "_________________________________________________________________\n"
          ]
        }
      ]
    },
    {
      "cell_type": "code",
      "source": [
        "model.fit(x_train,y_train,epochs=20,shuffle=True,validation_data=(x_test,y_test), batch_size=1)"
      ],
      "metadata": {
        "colab": {
          "base_uri": "https://localhost:8080/"
        },
        "id": "ffYgkwOC3SUZ",
        "outputId": "414db0c1-8844-4e4f-a826-066f12af52ef"
      },
      "execution_count": 19,
      "outputs": [
        {
          "output_type": "stream",
          "name": "stdout",
          "text": [
            "Epoch 1/20\n",
            "45000/45000 [==============================] - 156s 3ms/step - loss: 0.3221 - accuracy: 0.9141 - val_loss: 0.1757 - val_accuracy: 0.9557\n",
            "Epoch 2/20\n",
            "45000/45000 [==============================] - 154s 3ms/step - loss: 0.1835 - accuracy: 0.9568 - val_loss: 0.1697 - val_accuracy: 0.9589\n",
            "Epoch 3/20\n",
            "45000/45000 [==============================] - 150s 3ms/step - loss: 0.1534 - accuracy: 0.9644 - val_loss: 0.2367 - val_accuracy: 0.9507\n",
            "Epoch 4/20\n",
            "45000/45000 [==============================] - 155s 3ms/step - loss: 0.1350 - accuracy: 0.9705 - val_loss: 0.1932 - val_accuracy: 0.9600\n",
            "Epoch 5/20\n",
            "45000/45000 [==============================] - 150s 3ms/step - loss: 0.1337 - accuracy: 0.9717 - val_loss: 0.2711 - val_accuracy: 0.9580\n",
            "Epoch 6/20\n",
            "45000/45000 [==============================] - 152s 3ms/step - loss: 0.1273 - accuracy: 0.9754 - val_loss: 0.2291 - val_accuracy: 0.9630\n",
            "Epoch 7/20\n",
            "45000/45000 [==============================] - 151s 3ms/step - loss: 0.1224 - accuracy: 0.9763 - val_loss: 0.2152 - val_accuracy: 0.9696\n",
            "Epoch 8/20\n",
            "45000/45000 [==============================] - 150s 3ms/step - loss: 0.1206 - accuracy: 0.9798 - val_loss: 0.3357 - val_accuracy: 0.9636\n",
            "Epoch 9/20\n",
            "45000/45000 [==============================] - 149s 3ms/step - loss: 0.1157 - accuracy: 0.9781 - val_loss: 0.3050 - val_accuracy: 0.9630\n",
            "Epoch 10/20\n",
            "45000/45000 [==============================] - 148s 3ms/step - loss: 0.1210 - accuracy: 0.9803 - val_loss: 0.3905 - val_accuracy: 0.9627\n",
            "Epoch 11/20\n",
            "45000/45000 [==============================] - 149s 3ms/step - loss: 0.1214 - accuracy: 0.9807 - val_loss: 0.3547 - val_accuracy: 0.9680\n",
            "Epoch 12/20\n",
            "45000/45000 [==============================] - 152s 3ms/step - loss: 0.1108 - accuracy: 0.9827 - val_loss: 0.4782 - val_accuracy: 0.9654\n",
            "Epoch 13/20\n",
            "45000/45000 [==============================] - 148s 3ms/step - loss: 0.1133 - accuracy: 0.9834 - val_loss: 0.7471 - val_accuracy: 0.9602\n",
            "Epoch 14/20\n",
            "45000/45000 [==============================] - 154s 3ms/step - loss: 0.1232 - accuracy: 0.9835 - val_loss: 0.3707 - val_accuracy: 0.9648\n",
            "Epoch 15/20\n",
            "45000/45000 [==============================] - 155s 3ms/step - loss: 0.1231 - accuracy: 0.9819 - val_loss: 0.5480 - val_accuracy: 0.9635\n",
            "Epoch 16/20\n",
            "45000/45000 [==============================] - 151s 3ms/step - loss: 0.0944 - accuracy: 0.9837 - val_loss: 0.6938 - val_accuracy: 0.9637\n",
            "Epoch 17/20\n",
            "45000/45000 [==============================] - 151s 3ms/step - loss: 0.1181 - accuracy: 0.9834 - val_loss: 0.4841 - val_accuracy: 0.9568\n",
            "Epoch 18/20\n",
            "45000/45000 [==============================] - 153s 3ms/step - loss: 0.1211 - accuracy: 0.9822 - val_loss: 0.7104 - val_accuracy: 0.9634\n",
            "Epoch 19/20\n",
            "45000/45000 [==============================] - 154s 3ms/step - loss: 0.1385 - accuracy: 0.9835 - val_loss: 0.5233 - val_accuracy: 0.9550\n",
            "Epoch 20/20\n",
            "45000/45000 [==============================] - 159s 4ms/step - loss: 0.1264 - accuracy: 0.9825 - val_loss: 0.7419 - val_accuracy: 0.9627\n"
          ]
        },
        {
          "output_type": "execute_result",
          "data": {
            "text/plain": [
              "<keras.callbacks.History at 0x7fc6103e3700>"
            ]
          },
          "metadata": {},
          "execution_count": 19
        }
      ]
    }
  ]
}